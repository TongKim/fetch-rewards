{
 "metadata": {
  "kernelspec": {
   "display_name": "Streamlit Notebook",
   "name": "streamlit"
  }
 },
 "nbformat_minor": 5,
 "nbformat": 4,
 "cells": [
  {
   "cell_type": "code",
   "id": "3775908f-ca36-4846-8f38-5adca39217f2",
   "metadata": {
    "language": "python",
    "name": "cell1",
    "collapsed": false
   },
   "source": "# Import python packages\nimport streamlit as st\nimport pandas as pd\nimport altair as alt\nfrom IPython.display import display, Markdown\n\n# We can also use Snowpark for our analyses!\nfrom snowflake.snowpark.context import get_active_session\nsession = get_active_session()\n",
   "execution_count": null,
   "outputs": []
  },
  {
   "cell_type": "code",
   "id": "8d50cbf4-0c8d-4950-86cb-114990437ac9",
   "metadata": {
    "language": "sql",
    "name": "receipts",
    "collapsed": false
   },
   "source": "SELECT *\nFROM RECEIPTS;",
   "execution_count": null,
   "outputs": []
  },
  {
   "cell_type": "code",
   "id": "32ba3286-4fd5-467a-90b9-35f320d4947a",
   "metadata": {
    "language": "sql",
    "name": "users"
   },
   "outputs": [],
   "source": "SELECT *\nFROM USERS;",
   "execution_count": null
  },
  {
   "cell_type": "code",
   "id": "12fde8ec-da83-4d03-b39f-85da2e89782d",
   "metadata": {
    "language": "sql",
    "name": "brands",
    "collapsed": false
   },
   "outputs": [],
   "source": "SELECT *\nFROM BRANDS;",
   "execution_count": null
  },
  {
   "cell_type": "code",
   "id": "117b7f07-cdc6-4ead-8ac6-e551b9c23e5f",
   "metadata": {
    "language": "sql",
    "name": "item"
   },
   "outputs": [],
   "source": "SELECT *\nFROM REWARDS_RECEIPT_ITEM_LIST;",
   "execution_count": null
  },
  {
   "cell_type": "code",
   "id": "c695373e-ac74-4b62-a1f1-08206cbd5c81",
   "metadata": {
    "language": "python",
    "name": "to_pd",
    "collapsed": false,
    "codeCollapsed": false
   },
   "source": "# Turn all tables into a Pandas dataframe\nreceipts_df = receipts.to_pandas()\nusers_df = users.to_pandas()\nbrands_df = brands.to_pandas()\nitem_df = item.to_pandas()",
   "execution_count": null,
   "outputs": []
  },
  {
   "cell_type": "code",
   "id": "29ecea2f-68cd-448c-bc4f-ef25669b8cc6",
   "metadata": {
    "language": "python",
    "name": "cell2",
    "collapsed": false
   },
   "outputs": [],
   "source": "\ndef check_data_quality(df):\n    # Missing values report\n    missing_data = df.isnull().sum()\n    missing_percent = (df.isnull().sum() / len(df)) * 100\n    missing_report = pd.DataFrame({'Column': missing_data.index, 'Missing Values': missing_data.values, 'Missing Percent (%)': missing_percent.values})\n    missing_report = missing_report[missing_report['Missing Values'] > 0]\n\n    # Duplicates report\n    duplicates_data = [{'Column': column, 'Duplicate Count': df[column].duplicated().sum()} for column in df.columns if df[column].duplicated().sum() > 0]\n    duplicates_report = pd.DataFrame(duplicates_data)\n\n    # Data types report\n    data_types_report = pd.DataFrame({'Column': df.columns, 'Data Type': df.dtypes.values})\n\n    return {\n        \"Missing Values Report\": missing_report,\n        \"Duplicates Report\": duplicates_report,\n        \"Data Types Report\": data_types_report\n    }\n\ndef generate_quality_report(dfs, df_names):\n    report_dict = {}\n    for df, name in zip(dfs, df_names):\n        report = check_data_quality(df)\n        report_dict[name] = report\n    return report_dict\n\n\n# List of DataFrames and their names\ndfs = [receipts_df, users_df, brands_df, item_df]\ndf_names = ['Receipts', 'Users', 'Brands', 'Item Lists']\n\n# Generate the quality report for all DataFrames\nreport = generate_quality_report(dfs, df_names)\n\n# Displaying the reports\nfor df_name, reports in report.items():\n    print(f\"Data Quality Report for {df_name}\\n\")\n    for report_name, report_df in reports.items():\n        print(report_name)\n        display(report_df)\n        print()",
   "execution_count": null
  },
  {
   "cell_type": "markdown",
   "id": "5a4d73e0-add5-4582-8bc8-bb211744f53a",
   "metadata": {
    "name": "cell4",
    "collapsed": false
   },
   "source": ""
  }
 ]
}